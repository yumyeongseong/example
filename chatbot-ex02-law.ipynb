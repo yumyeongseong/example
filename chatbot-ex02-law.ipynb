{
 "cells": [
  {
   "cell_type": "markdown",
   "id": "0b0cc9c6",
   "metadata": {},
   "source": [
    "[문제] Managing Conversation History\n",
    "- trim_meassage()\n",
    "- RunnablePassthrough\n",
    "- itmegetter()\n",
    "\n",
    "세션ID 설정하여, 대화 여러번 주고 받아야 함. 추가로 대화를 주고 받은 내역 출력.\n",
    "LLM 모델이 과거 대화를 알지 못하는 상황을 만들기"
   ]
  },
  {
   "cell_type": "code",
   "execution_count": null,
   "id": "9a8a35b9",
   "metadata": {},
   "outputs": [
    {
     "data": {
      "text/plain": [
       "True"
      ]
     },
     "execution_count": 13,
     "metadata": {},
     "output_type": "execute_result"
    }
   ],
   "source": [
    "## 1. 모듈 읽어오기\n",
    "from langchain_core.runnables.history import RunnablePassthrough,RunnableWithMessageHistory\n",
    "from langchain_core.chat_history import InMemoryChatMessageHistory, BaseChatMessageHistory\n",
    "from langchain_core.prompts import ChatPromptTemplate\n",
    "from langchain.callbacks.streaming_stdout import StreamingStdOutCallbackHandler\n",
    "from langchain_openai import ChatOpenAI\n",
    "from operator import itemgetter\n",
    "from langchain_core.runnables import RunnablePassthrough\n",
    "\n",
    "from dotenv import load_dotenv\n",
    "\n",
    "## 2. 환경변수\n",
    "load_dotenv()"
   ]
  },
  {
   "cell_type": "code",
   "execution_count": null,
   "id": "b8dff625",
   "metadata": {},
   "outputs": [
    {
     "name": "stdout",
     "output_type": "stream",
     "text": [
      "\n",
      "남녀고용평등과 일ㆍ가정 양립 지원에 관한 법률 ( 약칭: 남녀고용평등법 )\n",
      "[시행 20\n"
     ]
    }
   ],
   "source": [
    "## 3. 파일 읽기\n",
    "file_name ='남녀고용평등과 일ㆍ가정 양립 지원에 관한 법률(법률)(제20521호)(20250223).txt'\n",
    "\n",
    "with open(file_name, 'r', encoding='utf-8') as file:\n",
    "    law_file = file.read()\n",
    "    print(law_file[:50])"
   ]
  },
  {
   "cell_type": "code",
   "execution_count": null,
   "id": "38fe3c30",
   "metadata": {},
   "outputs": [],
   "source": [
    "## 4. prompt 생성\n",
    "\n",
    "template = [\n",
    "    (\n",
    "        'system',\n",
    "          '''\n",
    "        당신은 육아휴직 법률 전문가입니다.\n",
    "        아래 문서를 참고하여, 사용자 질문에 성실하게 답변합니다.\n",
    "        답변은 문서 내용을 기반으로 하되, 해당 조항도 표시합니다.\n",
    "        - 문서: {law}\n",
    "        '''),\n",
    "        ('placeholder', '{chat_history}'),\n",
    "        ('user', '{query}')\n",
    "]\n",
    "\n",
    "prompt = ChatPromptTemplate.from_messages(template)"
   ]
  },
  {
   "cell_type": "code",
   "execution_count": null,
   "id": "36633f2d",
   "metadata": {},
   "outputs": [
    {
     "data": {
      "text/plain": [
       "ChatOpenAI(callbacks=[<langchain_core.callbacks.streaming_stdout.StreamingStdOutCallbackHandler object at 0x000001CBC8AABFA0>], client=<openai.resources.chat.completions.completions.Completions object at 0x000001CBC8BCA350>, async_client=<openai.resources.chat.completions.completions.AsyncCompletions object at 0x000001CBC8BED0F0>, root_client=<openai.OpenAI object at 0x000001CBC6248C70>, root_async_client=<openai.AsyncOpenAI object at 0x000001CBC8BCA410>, model_name='gpt-4.1-nano', model_kwargs={}, openai_api_key=SecretStr('**********'), streaming=True)"
      ]
     },
     "execution_count": 4,
     "metadata": {},
     "output_type": "execute_result"
    }
   ],
   "source": [
    "## 5. 인스턴스 생성\n",
    "\n",
    "llm = ChatOpenAI(\n",
    "    model='gpt-4.1-nano',\n",
    "    streaming=True,\n",
    "    callbacks=[StreamingStdOutCallbackHandler()],\n",
    ")\n",
    "\n",
    "llm"
   ]
  },
  {
   "cell_type": "code",
   "execution_count": null,
   "id": "a23d67e3",
   "metadata": {},
   "outputs": [],
   "source": [
    "## 6. chain 구성\n",
    "chain = prompt | llm "
   ]
  },
  {
   "cell_type": "code",
   "execution_count": null,
   "id": "2abbba77",
   "metadata": {},
   "outputs": [],
   "source": [
    "## 7. 대화 이력 관리 인스턴스 생성\n",
    "history = InMemoryChatMessageHistory()\n",
    "\n",
    "store = {}"
   ]
  },
  {
   "cell_type": "code",
   "execution_count": null,
   "id": "f076c4cf",
   "metadata": {},
   "outputs": [],
   "source": [
    "## 8.함수 정의: 대화 이력 인스턴스 리턴\n",
    "def get_history(session_id: str) -> BaseChatMessageHistory:\n",
    "    if session_id not in store:\n",
    "        store[session_id] = InMemoryChatMessageHistory()\n",
    "    return store[session_id]"
   ]
  },
  {
   "cell_type": "code",
   "execution_count": null,
   "id": "0401eafe",
   "metadata": {},
   "outputs": [],
   "source": [
    "def trim_messages(messages, k=2):\n",
    "    return messages[-k:]"
   ]
  },
  {
   "cell_type": "code",
   "execution_count": null,
   "id": "13618b8a",
   "metadata": {},
   "outputs": [],
   "source": [
    "## 10. chain에 대화 이력 기능 래핑해서 추가\n",
    "\n",
    "with_message_history = RunnableWithMessageHistory(\n",
    "    chain,\n",
    "    get_history,\n",
    "    history_messages_key='chat_history',\n",
    "    input_messages_key='query',\n",
    ")"
   ]
  },
  {
   "cell_type": "code",
   "execution_count": null,
   "id": "c7c24d1a",
   "metadata": {},
   "outputs": [
    {
     "name": "stdout",
     "output_type": "stream",
     "text": [
      "남편이 사용할 수 있는 육아휴직일 수는 법률상 명확하게 정해진 바가 있으며, 관련 내용은 「남녀고용평등과 일ㆍ가정 양립 지원에 관한 법률」(남녀고용평등법) 제19조(육아휴직) 및 제19조의4(육아휴직의 사용형태)에서 확인할 수 있습니다.\n",
      "\n",
      "⑴ **육아휴직 기간**은 원칙적으로 1년 이내로 하되, 법령에서는 남녀 모두가 동일하게 1년 이내의 육아휴직을 신청할 수 있도록 하고 있으며, 남편의 경우 특별히 연간 최대 사용 가능한 일수에 대한 제한은 별도로 명시되어 있지 않습니다. 다만, 남편이 육아휴직을 신청하는 경우, 육아휴직은「근로자」의 권리로서 법률상 인정되고, 여성이 사용하는 것과 동일한 조건으로 허용됩니다.\n",
      "\n",
      "⑵ **육아휴직의 나눠 사용**은 「남녀고용평등법」 제19조의4(육아휴직과 육아휴직의 분할사용)에서 규정하고 있으며, 이 조문에 따라 근로자는 육아휴직을 최대 3회에 한정하여 나누어 사용할 수 있습니다. 이 때, 임신 중인 여성 근로자가 모성보호를 위해 사용한 육아휴직의 횟수는 포함되지 않습니다.\n",
      "\n",
      "즉, **남편이 사용할 수 있는 육아휴직일 수는 최대 1년**이며, 이를 3회까지 나누어 사용할 수 있습니다. 단, 각 분할이 최소 1개월 이상이어야 하며, 여러 차례 사용 시에도 전체 기간이 1년을 초과하지 않도록 해야 합니다.\n",
      "\n",
      "추가적으로, 육아휴직 기간 동안 해고 또는 불리한 처우를 하지 못하는 등 근로자의 권리를 보호하는 법적 규정도 마련되어 있습니다.\n",
      "\n",
      "> **참고 법령: 제19조(육아휴직), 제19조의4(육아휴직의 사용형태)**\n",
      "\n",
      "**요약:**  \n",
      "남편이 사용할 수 있는 육아휴직일 수는 최대 1년이며, 3회에 나누어 사용할 수 있습니다."
     ]
    },
    {
     "data": {
      "text/plain": [
       "AIMessage(content='남편이 사용할 수 있는 육아휴직일 수는 법률상 명확하게 정해진 바가 있으며, 관련 내용은 「남녀고용평등과 일ㆍ가정 양립 지원에 관한 법률」(남녀고용평등법) 제19조(육아휴직) 및 제19조의4(육아휴직의 사용형태)에서 확인할 수 있습니다.\\n\\n⑴ **육아휴직 기간**은 원칙적으로 1년 이내로 하되, 법령에서는 남녀 모두가 동일하게 1년 이내의 육아휴직을 신청할 수 있도록 하고 있으며, 남편의 경우 특별히 연간 최대 사용 가능한 일수에 대한 제한은 별도로 명시되어 있지 않습니다. 다만, 남편이 육아휴직을 신청하는 경우, 육아휴직은「근로자」의 권리로서 법률상 인정되고, 여성이 사용하는 것과 동일한 조건으로 허용됩니다.\\n\\n⑵ **육아휴직의 나눠 사용**은 「남녀고용평등법」 제19조의4(육아휴직과 육아휴직의 분할사용)에서 규정하고 있으며, 이 조문에 따라 근로자는 육아휴직을 최대 3회에 한정하여 나누어 사용할 수 있습니다. 이 때, 임신 중인 여성 근로자가 모성보호를 위해 사용한 육아휴직의 횟수는 포함되지 않습니다.\\n\\n즉, **남편이 사용할 수 있는 육아휴직일 수는 최대 1년**이며, 이를 3회까지 나누어 사용할 수 있습니다. 단, 각 분할이 최소 1개월 이상이어야 하며, 여러 차례 사용 시에도 전체 기간이 1년을 초과하지 않도록 해야 합니다.\\n\\n추가적으로, 육아휴직 기간 동안 해고 또는 불리한 처우를 하지 못하는 등 근로자의 권리를 보호하는 법적 규정도 마련되어 있습니다.\\n\\n> **참고 법령: 제19조(육아휴직), 제19조의4(육아휴직의 사용형태)**\\n\\n**요약:**  \\n남편이 사용할 수 있는 육아휴직일 수는 최대 1년이며, 3회에 나누어 사용할 수 있습니다.', additional_kwargs={}, response_metadata={'finish_reason': 'stop', 'model_name': 'gpt-4.1-nano-2025-04-14', 'system_fingerprint': 'fp_f12167b370'}, id='run-9bdfcc5e-8ff0-472e-9306-d2bc78cc2ad9-0')"
      ]
     },
     "execution_count": 10,
     "metadata": {},
     "output_type": "execute_result"
    }
   ],
   "source": [
    "## 11. 실행\n",
    "with_message_history.invoke(\n",
    "    {'law': law_file, 'query':query},\n",
    "    config={'configurable': {'session_id': 'abc'}}\n",
    ")\n"
   ]
  },
  {
   "cell_type": "code",
   "execution_count": null,
   "id": "17bb4d66",
   "metadata": {},
   "outputs": [],
   "source": [
    "## 9. 사용자 질문 받기\n",
    "query = input ('육아휴직과 관련된 질문하세요 >>')"
   ]
  },
  {
   "cell_type": "code",
   "execution_count": null,
   "id": "f3bf1b99",
   "metadata": {},
   "outputs": [
    {
     "name": "stdout",
     "output_type": "stream",
     "text": [
      "안녕하세요! 테스트 메시지를 받았습니다. 무엇을 도와드릴까요?\n"
     ]
    }
   ],
   "source": [
    "import openai\n",
    "import os\n",
    "\n",
    "client = openai.OpenAI(api_key=os.getenv(\"OPENAI_API_KEY\"))\n",
    "\n",
    "response = client.chat.completions.create(\n",
    "    model=\"gpt-3.5-turbo\",\n",
    "    messages=[\n",
    "        {\"role\": \"user\", \"content\": \"테스트 메시지\"}\n",
    "    ]\n",
    ")\n",
    "\n",
    "print(response.choices[0].message.content)\n",
    "\n",
    "\n"
   ]
  },
  {
   "cell_type": "code",
   "execution_count": null,
   "id": "afe5857e",
   "metadata": {},
   "outputs": [
    {
     "name": "stdout",
     "output_type": "stream",
     "text": [
      "안녕하세요! 테스트 메시지를 받았습니다. 어떻게 도와드릴까요?\n"
     ]
    }
   ],
   "source": [
    "import openai\n",
    "import os\n",
    "\n",
    "client = openai.OpenAI(api_key=os.getenv(\"OPENAI_API_KEY\"))\n",
    "\n",
    "response = client.chat.completions.create(\n",
    "    model=\"gpt-3.5-turbo\",\n",
    "    messages=[\n",
    "        {\"role\": \"user\", \"content\": \"테스트 메시지\"}\n",
    "    ]\n",
    ")\n",
    "\n",
    "print(response.choices[0].message.content)\n"
   ]
  }
 ],
 "metadata": {
  "kernelspec": {
   "display_name": "project",
   "language": "python",
   "name": "python3"
  },
  "language_info": {
   "codemirror_mode": {
    "name": "ipython",
    "version": 3
   },
   "file_extension": ".py",
   "mimetype": "text/x-python",
   "name": "python",
   "nbconvert_exporter": "python",
   "pygments_lexer": "ipython3",
   "version": "3.10.12"
  }
 },
 "nbformat": 4,
 "nbformat_minor": 5
}
