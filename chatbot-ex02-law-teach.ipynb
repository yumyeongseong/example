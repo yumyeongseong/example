{
 "cells": [
  {
   "cell_type": "markdown",
   "id": "0b0cc9c6",
   "metadata": {},
   "source": [
    "[문제] Managing Conversation History\n",
    "- trim_meassage()\n",
    "- RunnablePassthrough\n",
    "- itmegetter()\n",
    "\n",
    "세션ID 설정하여, 대화 여러번 주고 받아야 함.(multi-turn conversation) 추가로 대화를 주고 받은 내역 출력.\n",
    "LLM 모델이 과거 대화를 알지 못하는 상황을 만들기"
   ]
  },
  {
   "cell_type": "code",
   "execution_count": 1,
   "id": "9a8a35b9",
   "metadata": {},
   "outputs": [
    {
     "data": {
      "text/plain": [
       "True"
      ]
     },
     "execution_count": 1,
     "metadata": {},
     "output_type": "execute_result"
    }
   ],
   "source": [
    "## 1. 모듈 읽어오기\n",
    "from langchain_core.runnables.history import RunnableWithMessageHistory\n",
    "from langchain_core.chat_history import InMemoryChatMessageHistory, BaseChatMessageHistory\n",
    "from langchain_core.prompts import ChatPromptTemplate\n",
    "from langchain.callbacks.streaming_stdout import StreamingStdOutCallbackHandler\n",
    "from langchain_openai import ChatOpenAI\n",
    "\n",
    "from langchain_core.runnables import RunnablePassthrough\n",
    "\n",
    "from dotenv import load_dotenv\n",
    "\n",
    "## 2. 환경변수\n",
    "load_dotenv()"
   ]
  },
  {
   "cell_type": "code",
   "execution_count": 2,
   "id": "b8dff625",
   "metadata": {},
   "outputs": [],
   "source": [
    "## 3. 파일 읽기\n",
    "file_name ='남녀고용평등과 일ㆍ가정 양립 지원에 관한 법률(법률)(제20521호)(20250223).txt'\n",
    "\n",
    "with open(file_name, 'r', encoding='utf-8') as file:\n",
    "    law_file = file.read()"
   ]
  },
  {
   "cell_type": "code",
   "execution_count": 3,
   "id": "38fe3c30",
   "metadata": {},
   "outputs": [],
   "source": [
    "## 4. prompt 생성\n",
    "\n",
    "template = [\n",
    "    (\n",
    "        'system',\n",
    "          '''\n",
    "        당신은 육아휴직 법률 전문가입니다.\n",
    "        아래 문서를 참고하여, 사용자 질문에 성실하게 답변합니다.\n",
    "        답변은 문서 내용을 기반으로 하되, 해당 조항도 표시합니다.\n",
    "        - 문서: {law}\n",
    "        '''),\n",
    "        ('placeholder', '{chat_history}'),\n",
    "        ('user', '{query}')\n",
    "]\n",
    "\n",
    "prompt = ChatPromptTemplate.from_messages(template)"
   ]
  },
  {
   "cell_type": "code",
   "execution_count": 4,
   "id": "36633f2d",
   "metadata": {},
   "outputs": [
    {
     "data": {
      "text/plain": [
       "ChatOpenAI(callbacks=[<langchain_core.callbacks.streaming_stdout.StreamingStdOutCallbackHandler object at 0x0000012C5774BD00>], client=<openai.resources.chat.completions.completions.Completions object at 0x0000012C5786E350>, async_client=<openai.resources.chat.completions.completions.AsyncCompletions object at 0x0000012C578910F0>, root_client=<openai.OpenAI object at 0x0000012C54ED4FD0>, root_async_client=<openai.AsyncOpenAI object at 0x0000012C5786E410>, model_name='gpt-4o', model_kwargs={}, openai_api_key=SecretStr('**********'), streaming=True)"
      ]
     },
     "execution_count": 4,
     "metadata": {},
     "output_type": "execute_result"
    }
   ],
   "source": [
    "## 5. 인스턴스 생성\n",
    "\n",
    "llm = ChatOpenAI(\n",
    "    # model='gpt-4.1-nano',\n",
    "    model='gpt-4o',\n",
    "    streaming=True,\n",
    "    callbacks=[StreamingStdOutCallbackHandler()],\n",
    ")\n",
    "\n",
    "llm"
   ]
  },
  {
   "cell_type": "code",
   "execution_count": 5,
   "id": "2cf566a5",
   "metadata": {},
   "outputs": [],
   "source": [
    "## 6. trim 설정\n",
    "from langchain_core.messages import SystemMessage, trim_messages\n",
    "\n",
    "trimmer = trim_messages(\n",
    "    max_tokens=65, ## 최대 토큰 수 제한\n",
    "    strategy='last', ## 최근 메시지부터 시작해서 자르기\n",
    "    token_counter=llm, ## 모델 기준으로 토큰 수 계산\n",
    "    include_system=True, ## 시스템 메시지 포함\n",
    "    allow_partial=False, ## 메시지 자르기 제한\n",
    "    start_on=\"human\", ## human 메시지부터 자르기 시작\n",
    ")\n",
    "\n"
   ]
  },
  {
   "cell_type": "code",
   "execution_count": 6,
   "id": "a23d67e3",
   "metadata": {},
   "outputs": [],
   "source": [
    "from langchain_core.runnables import RunnablePassthrough\n",
    "from operator import itemgetter\n",
    "## 6. chain 구성\n",
    "chain = (\n",
    "    RunnablePassthrough.assign(chat_history=itemgetter('chat_history')| trimmer) \n",
    "    | prompt \n",
    "    | llm \n",
    ")"
   ]
  },
  {
   "cell_type": "code",
   "execution_count": 7,
   "id": "2abbba77",
   "metadata": {},
   "outputs": [],
   "source": [
    "## 7. 세션별 대화 이력(히스토리)을 저장할 임시 메모리 저장소\n",
    "store = {}"
   ]
  },
  {
   "cell_type": "code",
   "execution_count": 8,
   "id": "f076c4cf",
   "metadata": {},
   "outputs": [],
   "source": [
    "## 8.함수 정의: 대화 이력(히스토리) 인스턴스 리턴\n",
    "def get_history(session_id: str) -> BaseChatMessageHistory:\n",
    "    if session_id not in store:\n",
    "        store[session_id] = InMemoryChatMessageHistory()\n",
    "    return store[session_id]"
   ]
  },
  {
   "cell_type": "code",
   "execution_count": 9,
   "id": "13618b8a",
   "metadata": {},
   "outputs": [],
   "source": [
    "## 10. chain에 대화 이력 기능 래핑해서 추가\n",
    "\n",
    "with_message_history = RunnableWithMessageHistory(\n",
    "    chain,\n",
    "    get_history,\n",
    "    history_messages_key='chat_history',\n",
    "    input_messages_key='query',\n",
    ")"
   ]
  },
  {
   "cell_type": "code",
   "execution_count": 10,
   "id": "17bb4d66",
   "metadata": {},
   "outputs": [
    {
     "name": "stdout",
     "output_type": "stream",
     "text": [
      "안녕하세요! 육아휴직에 관련된 법률에 대해 궁금한 점이 있으신가요? 질문을 해주시면 성심껏 답변 드리겠습니다.육아휴직의 조건에 대해 말씀드리겠습니다. 사업주는 근로자가 만 8세 이하 또는 초등학교 2학년 이하의 자녀를 양육하기 위하여 육아휴직을 신청하는 경우에 이를 허용해야 합니다. 육아휴직의 기간은 1년 이내로 제한됩니다. 다만, 다음의 경우에 해당하는 근로자는 6개월 이내에서 추가로 육아휴직을 사용할 수 있습니다.\n",
      "\n",
      "1. 같은 자녀를 대상으로 부모가 모두 육아휴직을 각각 3개월 이상 사용한 경우의 부 또는 모.\n",
      "2. 「한부모가족지원법」에 따른 부 또는 모.\n",
      "3. 고용노동부령으로 정하는 장애아동의 부 또는 모.\n",
      "\n",
      "또한, 사업주는 육아휴직을 이유로 근로자를 해고하거나 불리한 처우를 하면 안 됩니다. 육아휴직 기간이 끝난 후에는 근로자를 휴직 전과 동일한 업무나 같은 수준의 임금을 지급하는 직무에 복귀시켜야 하며, 휴직 기간은 근속기간에 포함시켜야 합니다. \n",
      "(「남녀고용평등과 일ㆍ가정 양립 지원에 관한 법률」 제19조)육아휴직 신청 조건에 대해 설명드리겠습니다. \n",
      "\n",
      "육아휴직은 임신 중인 여성 근로자나 만 8세 이하 또는 초등학교 2학년 이하의 자녀(입양한 자녀 포함)를 양육하기 위해 신청할 수 있습니다. 사업주는 이러한 휴직 신청을 허용해야 합니다. 다만, 대통령령으로 정하는 경우에는 제외될 수 있습니다. 육아휴직의 기간은 최대 1년입니다. 추가로, 특정 조건을 충족하는 경우 육아휴직을 6개월 이내에서 더 사용할 수도 있습니다 (제19조 및 제19조의4제1항). \n",
      "\n",
      "육아휴직 사용 후에는 근로자가 동일한 업무나 같은 수준의 임금을 받는 직무로 복귀할 수 있도록 보장합니다. 이 기간은 근속기간에 포함됩니다 (제19조).\n",
      "\n",
      "참고로, 육아휴직의 신청방법 및 절차에 대한 세부 사항은 대통령령으로 정하고 있습니다 (제19조).육아휴직의 대상자는 임신 중인 여성 근로자 또는 만 8세 이하 또는 초등학교 2학년 이하의 자녀(입양한 자녀를 포함)를 양육하는 근로자입니다. 이는 제19조에 명시되어 있습니다. 다만, 대통령령으로 정하는 경우에는 그러하지 않을 수 있습니다. (제19조)\n",
      "==================================================\n",
      "\n"
     ]
    }
   ],
   "source": [
    "\n",
    "while True:\n",
    "    query = input ('육아휴직과 관련된 질문하세요 >>')\n",
    "\n",
    "    if query.upper() == 'S':\n",
    "        break\n",
    "    with_message_history.invoke(\n",
    "        {'law': law_file, 'query':query},\n",
    "        config={'configurable': {'session_id': 'abc'}}\n",
    "    )\n",
    "\n",
    "print('\\n'+'='*50+'\\n')"
   ]
  },
  {
   "cell_type": "code",
   "execution_count": 11,
   "id": "3717cf85",
   "metadata": {},
   "outputs": [
    {
     "data": {
      "text/plain": [
       "{'abc': InMemoryChatMessageHistory(messages=[HumanMessage(content='', additional_kwargs={}, response_metadata={}), AIMessage(content='안녕하세요! 육아휴직에 관련된 법률에 대해 궁금한 점이 있으신가요? 질문을 해주시면 성심껏 답변 드리겠습니다.', additional_kwargs={}, response_metadata={'finish_reason': 'stop', 'model_name': 'gpt-4o-2024-08-06', 'system_fingerprint': 'fp_a288987b44'}, id='run-65d57096-7784-4db8-b485-597ea1aa6178-0'), HumanMessage(content='육아휴직 조건은?', additional_kwargs={}, response_metadata={}), AIMessage(content='육아휴직의 조건에 대해 말씀드리겠습니다. 사업주는 근로자가 만 8세 이하 또는 초등학교 2학년 이하의 자녀를 양육하기 위하여 육아휴직을 신청하는 경우에 이를 허용해야 합니다. 육아휴직의 기간은 1년 이내로 제한됩니다. 다만, 다음의 경우에 해당하는 근로자는 6개월 이내에서 추가로 육아휴직을 사용할 수 있습니다.\\n\\n1. 같은 자녀를 대상으로 부모가 모두 육아휴직을 각각 3개월 이상 사용한 경우의 부 또는 모.\\n2. 「한부모가족지원법」에 따른 부 또는 모.\\n3. 고용노동부령으로 정하는 장애아동의 부 또는 모.\\n\\n또한, 사업주는 육아휴직을 이유로 근로자를 해고하거나 불리한 처우를 하면 안 됩니다. 육아휴직 기간이 끝난 후에는 근로자를 휴직 전과 동일한 업무나 같은 수준의 임금을 지급하는 직무에 복귀시켜야 하며, 휴직 기간은 근속기간에 포함시켜야 합니다. \\n(「남녀고용평등과 일ㆍ가정 양립 지원에 관한 법률」 제19조)', additional_kwargs={}, response_metadata={'finish_reason': 'stop', 'model_name': 'gpt-4o-2024-08-06', 'system_fingerprint': 'fp_a288987b44'}, id='run-0556d909-f509-402c-8ab7-a586d0d46bb9-0'), HumanMessage(content='육아휴직 조건은?', additional_kwargs={}, response_metadata={}), AIMessage(content='육아휴직 신청 조건에 대해 설명드리겠습니다. \\n\\n육아휴직은 임신 중인 여성 근로자나 만 8세 이하 또는 초등학교 2학년 이하의 자녀(입양한 자녀 포함)를 양육하기 위해 신청할 수 있습니다. 사업주는 이러한 휴직 신청을 허용해야 합니다. 다만, 대통령령으로 정하는 경우에는 제외될 수 있습니다. 육아휴직의 기간은 최대 1년입니다. 추가로, 특정 조건을 충족하는 경우 육아휴직을 6개월 이내에서 더 사용할 수도 있습니다 (제19조 및 제19조의4제1항). \\n\\n육아휴직 사용 후에는 근로자가 동일한 업무나 같은 수준의 임금을 받는 직무로 복귀할 수 있도록 보장합니다. 이 기간은 근속기간에 포함됩니다 (제19조).\\n\\n참고로, 육아휴직의 신청방법 및 절차에 대한 세부 사항은 대통령령으로 정하고 있습니다 (제19조).', additional_kwargs={}, response_metadata={'finish_reason': 'stop', 'model_name': 'gpt-4o-2024-08-06', 'system_fingerprint': 'fp_a288987b44'}, id='run-b864c72b-acc2-4cf5-b476-41a194eaec60-0'), HumanMessage(content='육아휴직 대상자는?', additional_kwargs={}, response_metadata={}), AIMessage(content='육아휴직의 대상자는 임신 중인 여성 근로자 또는 만 8세 이하 또는 초등학교 2학년 이하의 자녀(입양한 자녀를 포함)를 양육하는 근로자입니다. 이는 제19조에 명시되어 있습니다. 다만, 대통령령으로 정하는 경우에는 그러하지 않을 수 있습니다. (제19조)', additional_kwargs={}, response_metadata={'finish_reason': 'stop', 'model_name': 'gpt-4o-2024-08-06', 'system_fingerprint': 'fp_a288987b44'}, id='run-40a606ca-7432-4bdd-900b-22935cc7c98a-0')])}"
      ]
     },
     "execution_count": 11,
     "metadata": {},
     "output_type": "execute_result"
    }
   ],
   "source": [
    "store"
   ]
  },
  {
   "cell_type": "code",
   "execution_count": 12,
   "id": "b7af9e1c",
   "metadata": {},
   "outputs": [
    {
     "data": {
      "text/plain": [
       "dict_keys(['abc'])"
      ]
     },
     "execution_count": 12,
     "metadata": {},
     "output_type": "execute_result"
    }
   ],
   "source": [
    "store.keys()"
   ]
  },
  {
   "cell_type": "code",
   "execution_count": 14,
   "id": "e164f64c",
   "metadata": {},
   "outputs": [
    {
     "name": "stdout",
     "output_type": "stream",
     "text": [
      "[HUMAN]: \n",
      "\n",
      "[AI]: 안녕하세요! 육아휴직에 관련된 법률에 대해 궁금한 점이 있으신가요? 질문을 해주시면 성심껏 답변 드리겠습니다.\n",
      "\n",
      "[HUMAN]: 육아휴직 조건은?\n",
      "\n",
      "[AI]: 육아휴직의 조건에 대해 말씀드리겠습니다. 사업주는 근로자가 만 8세 이하 또는 초등학교 2학년 이하의 자녀를 양육하기 위하여 육아휴직을 신청하는 경우에 이를 허용해야 합니다. 육아휴직의 기간은 1년 이내로 제한됩니다. 다만, 다음의 경우에 해당하는 근로자는 6개월 이내에서 추가로 육아휴직을 사용할 수 있습니다.\n",
      "\n",
      "1. 같은 자녀를 대상으로 부모가 모두 육아휴직을 각각 3개월 이상 사용한 경우의 부 또는 모.\n",
      "2. 「한부모가족지원법」에 따른 부 또는 모.\n",
      "3. 고용노동부령으로 정하는 장애아동의 부 또는 모.\n",
      "\n",
      "또한, 사업주는 육아휴직을 이유로 근로자를 해고하거나 불리한 처우를 하면 안 됩니다. 육아휴직 기간이 끝난 후에는 근로자를 휴직 전과 동일한 업무나 같은 수준의 임금을 지급하는 직무에 복귀시켜야 하며, 휴직 기간은 근속기간에 포함시켜야 합니다. \n",
      "(「남녀고용평등과 일ㆍ가정 양립 지원에 관한 법률」 제19조)\n",
      "\n",
      "[HUMAN]: 육아휴직 조건은?\n",
      "\n",
      "[AI]: 육아휴직 신청 조건에 대해 설명드리겠습니다. \n",
      "\n",
      "육아휴직은 임신 중인 여성 근로자나 만 8세 이하 또는 초등학교 2학년 이하의 자녀(입양한 자녀 포함)를 양육하기 위해 신청할 수 있습니다. 사업주는 이러한 휴직 신청을 허용해야 합니다. 다만, 대통령령으로 정하는 경우에는 제외될 수 있습니다. 육아휴직의 기간은 최대 1년입니다. 추가로, 특정 조건을 충족하는 경우 육아휴직을 6개월 이내에서 더 사용할 수도 있습니다 (제19조 및 제19조의4제1항). \n",
      "\n",
      "육아휴직 사용 후에는 근로자가 동일한 업무나 같은 수준의 임금을 받는 직무로 복귀할 수 있도록 보장합니다. 이 기간은 근속기간에 포함됩니다 (제19조).\n",
      "\n",
      "참고로, 육아휴직의 신청방법 및 절차에 대한 세부 사항은 대통령령으로 정하고 있습니다 (제19조).\n",
      "\n",
      "[HUMAN]: 육아휴직 대상자는?\n",
      "\n",
      "[AI]: 육아휴직의 대상자는 임신 중인 여성 근로자 또는 만 8세 이하 또는 초등학교 2학년 이하의 자녀(입양한 자녀를 포함)를 양육하는 근로자입니다. 이는 제19조에 명시되어 있습니다. 다만, 대통령령으로 정하는 경우에는 그러하지 않을 수 있습니다. (제19조)\n",
      "\n"
     ]
    }
   ],
   "source": [
    "for message in get_history('abc').messages:\n",
    "    print(f'[{message.type.upper()}]: {message.content}\\n')"
   ]
  }
 ],
 "metadata": {
  "kernelspec": {
   "display_name": "project",
   "language": "python",
   "name": "python3"
  },
  "language_info": {
   "codemirror_mode": {
    "name": "ipython",
    "version": 3
   },
   "file_extension": ".py",
   "mimetype": "text/x-python",
   "name": "python",
   "nbconvert_exporter": "python",
   "pygments_lexer": "ipython3",
   "version": "3.10.12"
  }
 },
 "nbformat": 4,
 "nbformat_minor": 5
}
