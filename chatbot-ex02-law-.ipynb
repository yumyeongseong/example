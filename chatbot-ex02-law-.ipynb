{
 "cells": [
  {
   "cell_type": "markdown",
   "id": "0b0cc9c6",
   "metadata": {},
   "source": [
    "[문제] Managing Conversation History\n",
    "- trim_meassage()\n",
    "- RunnablePassthrough\n",
    "- itmegetter()\n",
    "\n",
    "세션ID 설정하여, 대화 여러번 주고 받아야 함. 추가로 대화를 주고 받은 내역 출력.\n",
    "LLM 모델이 과거 대화를 알지 못하는 상황을 만들기"
   ]
  },
  {
   "cell_type": "code",
   "execution_count": 1,
   "id": "9a8a35b9",
   "metadata": {},
   "outputs": [
    {
     "data": {
      "text/plain": [
       "True"
      ]
     },
     "execution_count": 1,
     "metadata": {},
     "output_type": "execute_result"
    }
   ],
   "source": [
    "## 1. 모듈 읽어오기\n",
    "from langchain_core.runnables.history import RunnablePassthrough,RunnableWithMessageHistory\n",
    "from langchain_core.chat_history import InMemoryChatMessageHistory, BaseChatMessageHistory\n",
    "from langchain_core.prompts import ChatPromptTemplate\n",
    "from langchain.callbacks.streaming_stdout import StreamingStdOutCallbackHandler\n",
    "from langchain_openai import ChatOpenAI\n",
    "from operator import itemgetter\n",
    "from langchain_core.runnables import RunnablePassthrough\n",
    "\n",
    "from dotenv import load_dotenv\n",
    "\n",
    "## 2. 환경변수\n",
    "load_dotenv()"
   ]
  },
  {
   "cell_type": "code",
   "execution_count": 2,
   "id": "b8dff625",
   "metadata": {},
   "outputs": [
    {
     "name": "stdout",
     "output_type": "stream",
     "text": [
      "\n",
      "남녀고용평등과 일ㆍ가정 양립 지원에 관한 법률 ( 약칭: 남녀고용평등법 )\n",
      "[시행 20\n"
     ]
    }
   ],
   "source": [
    "## 3. 파일 읽기\n",
    "file_name ='남녀고용평등과 일ㆍ가정 양립 지원에 관한 법률(법률)(제20521호)(20250223).txt'\n",
    "\n",
    "with open(file_name, 'r', encoding='utf-8') as file:\n",
    "    law_file = file.read()\n",
    "    print(law_file[:50])"
   ]
  },
  {
   "cell_type": "code",
   "execution_count": 3,
   "id": "38fe3c30",
   "metadata": {},
   "outputs": [],
   "source": [
    "## 4. prompt 생성\n",
    "\n",
    "template = [\n",
    "    (\n",
    "        'system',\n",
    "          '''\n",
    "        당신은 육아휴직 법률 전문가입니다.\n",
    "        아래 문서를 참고하여, 사용자 질문에 성실하게 답변합니다.\n",
    "        답변은 문서 내용을 기반으로 하되, 해당 조항도 표시합니다.\n",
    "        - 문서: {law}\n",
    "        '''),\n",
    "        ('placeholder', '{chat_history}'),\n",
    "        ('user', '{query}')\n",
    "]\n",
    "\n",
    "prompt = ChatPromptTemplate.from_messages(template)"
   ]
  },
  {
   "cell_type": "code",
   "execution_count": 4,
   "id": "36633f2d",
   "metadata": {},
   "outputs": [
    {
     "data": {
      "text/plain": [
       "ChatOpenAI(callbacks=[<langchain_core.callbacks.streaming_stdout.StreamingStdOutCallbackHandler object at 0x000001AE4A84BF10>], client=<openai.resources.chat.completions.completions.Completions object at 0x000001AE4A976350>, async_client=<openai.resources.chat.completions.completions.AsyncCompletions object at 0x000001AE4A9990F0>, root_client=<openai.OpenAI object at 0x000001AE47FA0370>, root_async_client=<openai.AsyncOpenAI object at 0x000001AE4A976410>, model_name='gpt-4.1-nano', model_kwargs={}, openai_api_key=SecretStr('**********'), streaming=True)"
      ]
     },
     "execution_count": 4,
     "metadata": {},
     "output_type": "execute_result"
    }
   ],
   "source": [
    "## 5. 인스턴스 생성\n",
    "\n",
    "llm = ChatOpenAI(\n",
    "    model='gpt-4.1-nano',\n",
    "    streaming=True,\n",
    "    callbacks=[StreamingStdOutCallbackHandler()],\n",
    ")\n",
    "\n",
    "llm"
   ]
  },
  {
   "cell_type": "code",
   "execution_count": 5,
   "id": "a23d67e3",
   "metadata": {},
   "outputs": [],
   "source": [
    "## 6. chain 구성\n",
    "chain = prompt | llm "
   ]
  },
  {
   "cell_type": "code",
   "execution_count": 6,
   "id": "2abbba77",
   "metadata": {},
   "outputs": [],
   "source": [
    "## 7. 대화 이력 관리 인스턴스 생성\n",
    "history = InMemoryChatMessageHistory()\n",
    "\n",
    "store = {}"
   ]
  },
  {
   "cell_type": "code",
   "execution_count": 7,
   "id": "f076c4cf",
   "metadata": {},
   "outputs": [],
   "source": [
    "## 8.함수 정의: 대화 이력 인스턴스 리턴\n",
    "def get_history(session_id: str) -> BaseChatMessageHistory:\n",
    "    if session_id not in store:\n",
    "        store[session_id] = InMemoryChatMessageHistory()\n",
    "    return store[session_id]"
   ]
  },
  {
   "cell_type": "code",
   "execution_count": 8,
   "id": "0401eafe",
   "metadata": {},
   "outputs": [],
   "source": [
    "def trim_messages(messages, k=2):\n",
    "    return messages[-k:]"
   ]
  },
  {
   "cell_type": "code",
   "execution_count": 9,
   "id": "13618b8a",
   "metadata": {},
   "outputs": [],
   "source": [
    "## 10. chain에 대화 이력 기능 래핑해서 추가\n",
    "\n",
    "with_message_history = RunnableWithMessageHistory(\n",
    "    chain,\n",
    "    get_history,\n",
    "    history_messages_key='chat_history',\n",
    "    input_messages_key='query',\n",
    ")"
   ]
  },
  {
   "cell_type": "code",
   "execution_count": null,
   "id": "3455bf23",
   "metadata": {},
   "outputs": [
    {
     "name": "stdout",
     "output_type": "stream",
     "text": [
      "남편이 사용할 수 있는 육아휴직 일수는 \"휴직 개시일이 속하는 달의 다음달 말일까지 계속하여 1년 이내의 범위에서 1개월 이상\" 신청할 수 있으며, 최대 1년(12개월)까지 사용할 수 있습니다. 이 경우, 육아휴직을 남편이 사용하는 것은 법률상 가능합니다.\n",
      "\n",
      "구체적인 내용은 법령 제15조(육아휴직의 신청과 기간)에서 확인할 수 있으며, 근로자가 육아휴직을 신청하는 경우, 동일한 근로자가 최초 신청일로부터 1년 이내의 범위에서 연속 또는 불연속으로 육아휴직을 사용할 수 있다고 규정되어 있습니다. \n",
      "\n",
      "※ 참고: 육아휴직의 기간과 조건은 회사와의 협의에 따라 조정될 수 있으며, 별정 규정이나 개별 노동계약서 내용도 확인하시는 것이 좋습니다."
     ]
    }
   ],
   "source": [
    "## 9. 실행 루프 (대화 반복 + 히스토리 제어)\n",
    "law_file = \"여기에 법령 내용 문자열 그대로 넣기 또는 파일에서 읽기\"\n",
    "session_id = \"session_001\"  # 고정 ID\n",
    "\n",
    "while True:\n",
    "    query = input(\"\\n질문 입력 (또는 'exit' 입력 시 종료): \")\n",
    "\n",
    "    if query.lower() == 'exit':\n",
    "        break\n",
    "\n",
    "    if query.lower() == 'history':\n",
    "        history = get_history(session_id)\n",
    "        print(\"\\n📜 현재 히스토리:\")\n",
    "        for msg in history.messages:\n",
    "            print(msg)\n",
    "        continue\n",
    "\n",
    "    if query.lower() == 'clear':\n",
    "        get_history(session_id).clear()\n",
    "        print(\"\\n🧹 히스토리가 초기화되었습니다.\")\n",
    "        continue\n",
    "\n",
    "    if query.lower().startswith('trim'):\n",
    "        # 예: trim 1 → 최근 1개만 남김\n",
    "        try:\n",
    "            k = int(query.split()[1])\n",
    "            trimmed = trim_messages(get_history(session_id).messages, k)\n",
    "            get_history(session_id).messages = trimmed\n",
    "            print(f\"\\n✂️ 최근 {k}개만 남기고 히스토리를 잘랐습니다.\")\n",
    "        except:\n",
    "            print(\"⚠️ trim 명령은 'trim 숫자' 형식으로 입력하세요.\")\n",
    "        continue\n",
    "\n",
    "    with_message_history.invoke(\n",
    "        {\"query\": query, \"law\": law_file},\n",
    "        config={\"configurable\": {\"session_id\": session_id}}\n",
    "    )\n"
   ]
  },
  {
   "cell_type": "code",
   "execution_count": 13,
   "id": "c7c24d1a",
   "metadata": {},
   "outputs": [
    {
     "name": "stdout",
     "output_type": "stream",
     "text": [
      "남편이 사용할 수 있는 육아휴직일 수는 최대 12개월(365일)입니다. 이는 남성근로자가 육아휴직을 사용할 수 있는 기간에 대한 규정으로, 관련 법령에 따라 최대 12개월까지 육아휴직을 신청할 수 있습니다(관련 법령 조항 참고)."
     ]
    },
    {
     "data": {
      "text/plain": [
       "AIMessage(content='남편이 사용할 수 있는 육아휴직일 수는 최대 12개월(365일)입니다. 이는 남성근로자가 육아휴직을 사용할 수 있는 기간에 대한 규정으로, 관련 법령에 따라 최대 12개월까지 육아휴직을 신청할 수 있습니다(관련 법령 조항 참고).', additional_kwargs={}, response_metadata={'finish_reason': 'stop', 'model_name': 'gpt-4.1-nano-2025-04-14', 'system_fingerprint': 'fp_38343a2f8f'}, id='run-bd33fcbe-843e-4f37-91bc-0e995e6bf4db-0')"
      ]
     },
     "execution_count": 13,
     "metadata": {},
     "output_type": "execute_result"
    }
   ],
   "source": [
    "## 11. 실행\n",
    "with_message_history.invoke(\n",
    "    {'law': law_file, 'query':query},\n",
    "    config={'configurable': {'session_id': 'abc'}}\n",
    ")\n"
   ]
  }
 ],
 "metadata": {
  "kernelspec": {
   "display_name": "project",
   "language": "python",
   "name": "python3"
  },
  "language_info": {
   "codemirror_mode": {
    "name": "ipython",
    "version": 3
   },
   "file_extension": ".py",
   "mimetype": "text/x-python",
   "name": "python",
   "nbconvert_exporter": "python",
   "pygments_lexer": "ipython3",
   "version": "3.10.12"
  }
 },
 "nbformat": 4,
 "nbformat_minor": 5
}
