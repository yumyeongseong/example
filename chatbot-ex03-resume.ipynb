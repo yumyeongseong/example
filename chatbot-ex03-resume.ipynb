{
 "cells": [
  {
   "cell_type": "markdown",
   "id": "6c02435e",
   "metadata": {},
   "source": [
    "# [문제] Managing Conversation History\n",
    "- trim_messages()\n",
    "- RunnablePassthrough\n",
    "- itemgetter()\n"
   ]
  },
  {
   "cell_type": "code",
   "execution_count": null,
   "id": "e002d1c7",
   "metadata": {},
   "outputs": [
    {
     "name": "stdout",
     "output_type": "stream",
     "text": [
      "물론입니다. 이력서를 작성하기 위해 귀하의 학력, 경력, 기술 및 기타 관련 정보를 필요로 합니다. 제공해주실 수 있는 모든 세부사항을 공유해주시면 감사하겠습니다.\n",
      "==================================================\n",
      "\n",
      "이력서를 작성하기 위해 다음과 같은 정보를 제공해 주시면 좋습니다:\n",
      "\n",
      "1. 개인 정보: 이름, 연락처(전화번호, 이메일), 주소(선택 사항).\n",
      "2. 경력 사항: 현재 및 이전 직장의 이름, 직급, 근무 기간, 주요 업무 및 성과.\n",
      "3. 학력: 최종 학력 및 기타 학력 정보(졸업 학교명, 전공, 졸업 연도).\n",
      "4. 기술: 숙련된 소프트웨어, 언어, 기타 전문 기술.\n",
      "5. 자격증 및 수상 경력: 관련 자격증이나 수상 경력.\n",
      "6. 기타 활동: 인턴십, 자원봉사, 동아리 활동 등.\n",
      "7. 목표나 자기소개서(선택 사항): 지원하는 직무에 관련된 자신의 목표와 강점을 간략히 소개.\n",
      "\n",
      "이 정보를 바탕으로 이력서를 작성해 드릴 수 있습니다!\n",
      "==================================================\n",
      "\n",
      "---\n",
      "**이력서**\n",
      "\n",
      "**개인 정보**  \n",
      "이름: 황정민  \n",
      "\n",
      "**경력 요약**  \n",
      "- 배우로서 약 20년의 경력을 가지고 있으며, 다양한 장르와 배역에서 깊이 있는 연기를 선보였음.\n",
      "- 다수의 작품에서 주연을 맡아 관객과 평단을 모두 사로잡은 연기력을 인정받음.\n",
      "\n",
      "**교육**  \n",
      "- 연기 전공, 서울예술대학교 (졸업연도 기재 필요)\n",
      "\n",
      "**경험**  \n",
      "1. **영화 및 드라마 출연**  \n",
      "   - 다수의 유명 영화 및 드라마에서 주연을 맡으며 신뢰 있는 연기자로 자리매김.\n",
      "   - 다양한 캐릭터에 몰입하여 역할 소화, 극의 완성도를 높이는 데 기여.\n",
      "\n",
      "2. **수상 경력**  \n",
      "   - 다수의 남우주연상 수상: 연기력을 공인받고 인정을 받은 각종 영화제에서 최고 배우로 선정.\n",
      "   - 특정 년도 및 영화제 수상 내역 필요.\n",
      "\n",
      "**기술 및 전문성**  \n",
      "- **메소드 연기**: 캐릭터의 심리와 환경을 철저히 연구하여 몰입도가 높고 진정성 있는 연기를 펼침.  \n",
      "- 다양한 장르 소화 능력: 드라마, 액션, 코미디 등 여러 장르의 배역을 소화하며, 장르를 초월한 매력을 발휘.\n",
      "\n",
      "**추가 활동**  \n",
      "- 연기 워크샵 참여 및 강의 경험: 후학 양성과 대중문화 발전을 위한 지속적인 노력.\n",
      "- 사회 공헌 활동: 연예인으로서의 영향력을 바탕으로 다양한 사회적 캠페인 및 자선 행사 참여.\n",
      "\n",
      "**개인적 목표**  \n",
      "- 연기 스펙트럼을 넓혀 다양한 작품을 통해 폭넓은 감동을 선사하고, 후배들에게 긍정적인 영향을 미칠 수 있는 선배 배우로 성장하고자 함. \n",
      "\n",
      "---\n",
      "\n",
      "*상세 정보 및 연락처 기입 필요*\n",
      "==================================================\n",
      "\n",
      "이력서를 작성하기 위해 이름을 입력할 수 없습니다. 다른 질문이나 요청 사항이 있으면 말씀해 주세요.\n",
      "==================================================\n",
      "\n",
      "알겠습니다. 이름을 포함한 다른 세부사항이 필요하시면 언제든지 말씀해 주세요. 이력서를 작성하는 데 도움이 될 추가 정보를 제공해 주시면 최선을 다해 도와드리겠습니다.\n",
      "==================================================\n",
      "\n",
      "죄송합니다, 이름을 제공하지 않으셨습니다. 이름을 포함하여 직무 경험, 학력, 기술, 자격증 등 제공하고 싶으신 정보를 공유해 주시면 이력서 작성에 도움이 되겠습니다. 추가 정보를 주시면 적합한 이력서를 작성할 수 있도록 하겠습니다.\n",
      "==================================================\n",
      "\n"
     ]
    }
   ],
   "source": [
    "## 1. 모듈 import\n",
    "from operator import itemgetter\n",
    "from dotenv import load_dotenv\n",
    "from langchain_openai import ChatOpenAI\n",
    "from langchain.callbacks.streaming_stdout import StreamingStdOutCallbackHandler\n",
    "from langchain_core.runnables.history import RunnableWithMessageHistory\n",
    "from langchain_core.runnables import RunnablePassthrough\n",
    "from langchain_core.prompts import ChatPromptTemplate\n",
    "from langchain_core.messages import trim_messages\n",
    "from langchain_core.chat_history import (\n",
    "    BaseChatMessageHistory, \n",
    "    InMemoryChatMessageHistory\n",
    ")\n",
    "\n",
    "\n",
    "## 2. .env 파일에서 환경변수 읽어오기\n",
    "load_dotenv()\n",
    "\n",
    "## 3. 세션별 대화 히스토리를 저장할 임시 메모리 저장소\n",
    "store = {}\n",
    "\n",
    "## 4. 함수 정의: 세션 ID에 따라 대화 히스토리 반환\n",
    "def get_history(session_id: str) -> BaseChatMessageHistory:\n",
    "    if session_id not in store:\n",
    "        store[session_id] = InMemoryChatMessageHistory()\n",
    "    return store[session_id]\n",
    "\n",
    "## 5. prompt template 정의\n",
    "messages = [\n",
    "    ('system', '''당신은 이력서 작성 컨설턴트입니다.\n",
    "아래 정보를 바탕으로 지원자 입장에서 2000자 이내로 이력서를 작성합니다.\n",
    "문장은 자연스럽고 매끄럽게 작성합니다.'''),\n",
    "\t('placeholder', '{chat_history}'),\n",
    "\t('user', '{query}')\n",
    "]\n",
    "\n",
    "prompt = ChatPromptTemplate.from_messages(messages=messages)\n",
    "\n",
    "## 6. ChatOpenAI 인스턴스 생성: 모델 생성\n",
    "llm = ChatOpenAI(\n",
    "    model='gpt-4o',\n",
    "    streaming=True,\n",
    "    callbacks=[StreamingStdOutCallbackHandler()],\n",
    ")\n",
    "\n",
    "## 7. trim 설정.\n",
    "trimmer = trim_messages(\n",
    "    max_tokens=65,\n",
    "    strategy='last',\n",
    "    token_counter=llm,\n",
    "    include_system=True,\n",
    "    allow_partial=False,\n",
    "    start_on='human',\n",
    ")\n",
    "\n",
    "## 8. chain 구성\n",
    "chain = (\n",
    "    RunnablePassthrough.assign(chat_history=itemgetter('chat_history')| trimmer)\n",
    "    |prompt \n",
    "    | llm \n",
    ")\n",
    "\n",
    "## 9. chain에 대화 히스토리 기능을 래핑해서 추가\n",
    "with_message_history = RunnableWithMessageHistory(\n",
    "    chain,\n",
    "    get_history,\n",
    "    input_messages_key='query',\n",
    "    history_messages_key='chat_history'\n",
    ")\n",
    "\n",
    "## 10. chain 실행\n",
    "while True:\n",
    "    query = input('이력서 작성 컨설턴트입니다. 질문하세요. [종료: S] >>> ')\n",
    "\n",
    "    if query.upper() == 'S':\n",
    "        break\n",
    "\n",
    "    with_message_history.invoke(\n",
    "        {'query': query},\n",
    "        config={'configurable': {'session_id': '1234'}}      \n",
    "    )\n",
    "    print('\\n'+'='*50 + '\\n')"
   ]
  },
  {
   "cell_type": "code",
   "execution_count": null,
   "id": "6f7a7ec2",
   "metadata": {},
   "outputs": [
    {
     "data": {
      "text/plain": [
       "InMemoryChatMessageHistory(messages=[HumanMessage(content='자기소개서를 어떻게 작성하면되?', additional_kwargs={}, response_metadata={}), AIMessage(content='자기소개서를 작성할 때에는 자신의 강점과 경험을 효과적으로 드러내면서, 지원하는 회사와 직무에 적합한 인재임을 어필하는 것이 중요합니다. 아래에 자기소개서 작성 방식과 팁을 안내해 드리니 참고하셔서 자신만의 이야기를 자연스럽게 풀어보세요.\\n\\n1. 시작은 본인 소개와 목표 제시\\n- 간단하게 본인에 대한 소개와 지원 동기, 그리고 앞으로의 목표를 명확히 전달하세요.\\n- 예를 들어, “저는 △△ 분야에 열정을 품고 성장해온 ○○입니다. 이번 기회를 통해 제 역량을 발휘하며 회사와 함께 성장', additional_kwargs={}, response_metadata={'finish_reason': 'length', 'model_name': 'gpt-4.1-nano-2025-04-14', 'system_fingerprint': 'fp_38343a2f8f'}, id='run-82bab0a4-d555-4a8e-a72d-9b10f6fd27c0-0')])"
      ]
     },
     "execution_count": 2,
     "metadata": {},
     "output_type": "execute_result"
    }
   ],
   "source": [
    "get_history('1234')"
   ]
  },
  {
   "cell_type": "code",
   "execution_count": null,
   "id": "6a40bb5c",
   "metadata": {},
   "outputs": [
    {
     "name": "stdout",
     "output_type": "stream",
     "text": [
      "자기소개서를 어떻게 작성하면되?\n",
      "**************************************************\n",
      "자기소개서를 작성할 때에는 자신의 강점과 경험을 효과적으로 드러내면서, 지원하는 회사와 직무에 적합한 인재임을 어필하는 것이 중요합니다. 아래에 자기소개서 작성 방식과 팁을 안내해 드리니 참고하셔서 자신만의 이야기를 자연스럽게 풀어보세요.\n",
      "\n",
      "1. 시작은 본인 소개와 목표 제시\n",
      "- 간단하게 본인에 대한 소개와 지원 동기, 그리고 앞으로의 목표를 명확히 전달하세요.\n",
      "- 예를 들어, “저는 △△ 분야에 열정을 품고 성장해온 ○○입니다. 이번 기회를 통해 제 역량을 발휘하며 회사와 함께 성장\n",
      "**************************************************\n"
     ]
    }
   ],
   "source": [
    "for info in get_history('1234').messages:\n",
    "    print(info.content)\n",
    "    print('*' * 50)"
   ]
  }
 ],
 "metadata": {
  "kernelspec": {
   "display_name": "project",
   "language": "python",
   "name": "python3"
  },
  "language_info": {
   "codemirror_mode": {
    "name": "ipython",
    "version": 3
   },
   "file_extension": ".py",
   "mimetype": "text/x-python",
   "name": "python",
   "nbconvert_exporter": "python",
   "pygments_lexer": "ipython3",
   "version": "3.10.12"
  }
 },
 "nbformat": 4,
 "nbformat_minor": 5
}
