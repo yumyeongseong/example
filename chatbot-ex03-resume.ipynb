{
 "cells": [
  {
   "cell_type": "markdown",
   "id": "6c02435e",
   "metadata": {},
   "source": [
    "# [문제] Managing Conversation History\n",
    "- trim_messages()\n",
    "- RunnablePassthrough\n",
    "- itemgetter()\n"
   ]
  },
  {
   "cell_type": "code",
   "execution_count": null,
   "id": "e002d1c7",
   "metadata": {},
   "outputs": [],
   "source": [
    "## 1. 모듈 import\n",
    "from dotenv import load_dotenv\n",
    "from langchain_openai import ChatOpenAI\n",
    "from langchain.callbacks.streaming_stdout import StreamingStdOutCallbackHandler\n",
    "from langchain_core.runnables.history import RunnableWithMessageHistory\n",
    "from langchain_core.prompts import ChatPromptTemplate\n",
    "\n",
    "## [방법 1]\n",
    "# from langchain_core.chat_history import BaseChatMessageHistory\n",
    "# from langchain_core.chat_history import InMemoryChatMessageHistory\n",
    "\n",
    "## [방법 2]\n",
    "# from langchain_core.chat_history import BaseChatMessageHistory, InMemoryChatMessageHistory\n",
    "\n",
    "## [방법 3]\n",
    "from langchain_core.chat_history import (\n",
    "    BaseChatMessageHistory, \n",
    "    InMemoryChatMessageHistory\n",
    ")\n",
    "\n",
    "\n",
    "## 2. .env 파일에서 환경변수 읽어오기\n",
    "load_dotenv()\n",
    "\n",
    "## 3. 세션별 대화 히스토리를 저장할 임시 메모리 저장소\n",
    "## type: dict \n",
    "store = {}\n",
    "\n",
    "## 4. 함수 정의: 세션 ID에 따라 대화 히스토리 반환\n",
    "def get_history(session_id: str) -> BaseChatMessageHistory:\n",
    "    if session_id not in store:\n",
    "        store[session_id] = InMemoryChatMessageHistory()\n",
    "    return store[session_id]\n",
    "\n",
    "## 5. prompt template 정의\n",
    "messages = [\n",
    "    ('system', '''당신은 이력서 작성 컨설턴트입니다.\n",
    "아래 정보를 바탕으로 지원자 입장에서 2000자 이내로 이력서를 작성합니다.\n",
    "문장은 자연스럽고 매끄럽게 작성합니다.'''),\n",
    "\t('placeholder', '{chat_history}'),\n",
    "\t('user', '{query}')\n",
    "]\n",
    "\n",
    "prompt = ChatPromptTemplate.from_messages(messages=messages)\n",
    "\n",
    "## 6. ChatOpenAI 인스턴스 생성: 모델 생성\n",
    "llm = ChatOpenAI(\n",
    "    model='gpt-4.1-nano',\n",
    "    streaming=True,\n",
    "    callbacks=[StreamingStdOutCallbackHandler()],\n",
    "    max_completion_tokens=150,\n",
    ")\n",
    "\n",
    "## 7. chain 구성\n",
    "chain = prompt | llm \n",
    "\n",
    "## 8. chain에 대화 히스토리 기능을 래핑해서 추가\n",
    "with_message_history = RunnableWithMessageHistory(\n",
    "    chain,\n",
    "    get_history,\n",
    "    input_messages_key='query',\n",
    "    history_messages_key='chat_history'\n",
    ")\n",
    "\n",
    "## 9. chain 실행\n",
    "while True:\n",
    "    query = input('이력서 작성 컨설턴트입니다. 질문하세요. [종료: S] >>> ')\n",
    "\n",
    "    if query.upper() == 'S':\n",
    "        break\n",
    "\n",
    "    with_message_history.invoke(\n",
    "        {'query': query},\n",
    "        config={'configurable': {'session_id': '1234'}}      \n",
    "    )"
   ]
  },
  {
   "cell_type": "code",
   "execution_count": 2,
   "id": "6f7a7ec2",
   "metadata": {},
   "outputs": [
    {
     "data": {
      "text/plain": [
       "InMemoryChatMessageHistory(messages=[HumanMessage(content='이력서 작성을 어떻게 해야 하나요?', additional_kwargs={}, response_metadata={}), AIMessage(content='이력서 작성 방법에 대해 안내해 드리겠습니다. 효과적인 이력서는 자신의 경력과 역량을 명확하고 간결하게 전달하여 채용 담당자의 관심을 끄는 것이 중요합니다. 아래 단계별로 작성 방법을 설명드리겠습니다.\\n\\n1. 기본 정보\\n- 이름, 연락처(전화번호, 이메일), 주소(선택사항)를 명확히 기재하세요.\\n- 최근 연락이 가능한 연락처를 기입하는 것이 좋습니다.\\n\\n2. 자기소개 또는 경력개요\\n- 간단하게 본인의 전문성, 강점, 지원 동기를 요약하세요.\\n- 해당 직무에 적합한 역량을 강조하는 것이 좋습니다.\\n\\n3.', additional_kwargs={}, response_metadata={'finish_reason': 'length', 'model_name': 'gpt-4.1-nano-2025-04-14', 'system_fingerprint': 'fp_eede8f0d45'}, id='run-335e9686-c8de-41d1-82f8-16a4b91223d6-0'), HumanMessage(content='이력서 작성해주세요!', additional_kwargs={}, response_metadata={}), AIMessage(content='물론입니다! 지원자의 기본 정보, 경력 사항, 학력, 기술 및 자격증, 그리고 자기소개 등을 포함한 예시 이력서를 아래에 작성해 드리겠습니다. 참고용으로 활용하시거나 필요에 맞게 수정하시면 됩니다.\\n\\n---\\n\\n**이력서**\\n\\n**개인정보**  \\n이름: 홍길동  \\n생년월일: 1990년 5월 15일  \\n연락처: 010-1234-5678  \\n이메일: honggildong@email.com  \\n주소: 서울시 강남구 테헤란로 123  \\n\\n---\\n\\n**자기소개 및 경력개요**  \\n신뢰성과 성실성을 바탕으로 문제', additional_kwargs={}, response_metadata={'finish_reason': 'length', 'model_name': 'gpt-4.1-nano-2025-04-14', 'system_fingerprint': 'fp_eede8f0d45'}, id='run-bb41ae4f-7b4f-4f65-80cb-f16f8acd36ec-0'), HumanMessage(content='이름: 박보검, 지원분야: 웹 개발 신입, 보유 능력: Python, HTML, CSS, LLM', additional_kwargs={}, response_metadata={}), AIMessage(content='물론입니다! 아래는 지원자 박보검 님의 \"웹 개발 신입\" 분야에 적합한 이력서 예시입니다. 자연스럽고 전문적인 느낌을 살려서 작성하였으며, 필요에 따라 자유롭게 수정하실 수 있습니다.\\n\\n---\\n\\n**이력서**\\n\\n**개인정보**  \\n이름: 박보검  \\n생년월일: 1995년 8월 20일  \\n연락처: 010-9876-5432  \\n이메일: parkbogum@email.com  \\n주소: 서울특별시 마포구 합정동\\n\\n---\\n\\n**자기소개 및 경력개요**  \\n신입 웹 개발자로서 Python, HTML,', additional_kwargs={}, response_metadata={'finish_reason': 'length', 'model_name': 'gpt-4.1-nano-2025-04-14', 'system_fingerprint': 'fp_eede8f0d45'}, id='run-943aa3a3-7d11-4155-8006-608698bc4006-0')])"
      ]
     },
     "execution_count": 2,
     "metadata": {},
     "output_type": "execute_result"
    }
   ],
   "source": [
    "get_history('1234')"
   ]
  },
  {
   "cell_type": "code",
   "execution_count": 3,
   "id": "6a40bb5c",
   "metadata": {},
   "outputs": [
    {
     "name": "stdout",
     "output_type": "stream",
     "text": [
      "이력서 작성을 어떻게 해야 하나요?\n",
      "**************************************************\n",
      "이력서 작성 방법에 대해 안내해 드리겠습니다. 효과적인 이력서는 자신의 경력과 역량을 명확하고 간결하게 전달하여 채용 담당자의 관심을 끄는 것이 중요합니다. 아래 단계별로 작성 방법을 설명드리겠습니다.\n",
      "\n",
      "1. 기본 정보\n",
      "- 이름, 연락처(전화번호, 이메일), 주소(선택사항)를 명확히 기재하세요.\n",
      "- 최근 연락이 가능한 연락처를 기입하는 것이 좋습니다.\n",
      "\n",
      "2. 자기소개 또는 경력개요\n",
      "- 간단하게 본인의 전문성, 강점, 지원 동기를 요약하세요.\n",
      "- 해당 직무에 적합한 역량을 강조하는 것이 좋습니다.\n",
      "\n",
      "3.\n",
      "**************************************************\n",
      "이력서 작성해주세요!\n",
      "**************************************************\n",
      "물론입니다! 지원자의 기본 정보, 경력 사항, 학력, 기술 및 자격증, 그리고 자기소개 등을 포함한 예시 이력서를 아래에 작성해 드리겠습니다. 참고용으로 활용하시거나 필요에 맞게 수정하시면 됩니다.\n",
      "\n",
      "---\n",
      "\n",
      "**이력서**\n",
      "\n",
      "**개인정보**  \n",
      "이름: 홍길동  \n",
      "생년월일: 1990년 5월 15일  \n",
      "연락처: 010-1234-5678  \n",
      "이메일: honggildong@email.com  \n",
      "주소: 서울시 강남구 테헤란로 123  \n",
      "\n",
      "---\n",
      "\n",
      "**자기소개 및 경력개요**  \n",
      "신뢰성과 성실성을 바탕으로 문제\n",
      "**************************************************\n",
      "이름: 박보검, 지원분야: 웹 개발 신입, 보유 능력: Python, HTML, CSS, LLM\n",
      "**************************************************\n",
      "물론입니다! 아래는 지원자 박보검 님의 \"웹 개발 신입\" 분야에 적합한 이력서 예시입니다. 자연스럽고 전문적인 느낌을 살려서 작성하였으며, 필요에 따라 자유롭게 수정하실 수 있습니다.\n",
      "\n",
      "---\n",
      "\n",
      "**이력서**\n",
      "\n",
      "**개인정보**  \n",
      "이름: 박보검  \n",
      "생년월일: 1995년 8월 20일  \n",
      "연락처: 010-9876-5432  \n",
      "이메일: parkbogum@email.com  \n",
      "주소: 서울특별시 마포구 합정동\n",
      "\n",
      "---\n",
      "\n",
      "**자기소개 및 경력개요**  \n",
      "신입 웹 개발자로서 Python, HTML,\n",
      "**************************************************\n"
     ]
    }
   ],
   "source": [
    "for info in get_history('1234').messages:\n",
    "    print(info.content)\n",
    "    print('*' * 50)"
   ]
  }
 ],
 "metadata": {
  "kernelspec": {
   "display_name": "project",
   "language": "python",
   "name": "python3"
  },
  "language_info": {
   "codemirror_mode": {
    "name": "ipython",
    "version": 3
   },
   "file_extension": ".py",
   "mimetype": "text/x-python",
   "name": "python",
   "nbconvert_exporter": "python",
   "pygments_lexer": "ipython3",
   "version": "3.10.12"
  }
 },
 "nbformat": 4,
 "nbformat_minor": 5
}
